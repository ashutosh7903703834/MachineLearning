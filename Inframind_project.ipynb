{
  "nbformat": 4,
  "nbformat_minor": 0,
  "metadata": {
    "colab": {
      "name": "Inframind project",
      "provenance": [],
      "collapsed_sections": [],
      "authorship_tag": "ABX9TyOz55q0rbhIWN4W6DFVIYmZ",
      "include_colab_link": true
    },
    "kernelspec": {
      "display_name": "Python 3",
      "name": "python3"
    }
  },
  "cells": [
    {
      "cell_type": "markdown",
      "metadata": {
        "id": "view-in-github",
        "colab_type": "text"
      },
      "source": [
        "<a href=\"https://colab.research.google.com/github/ashutosh7903703834/MachineLearning/blob/master/Inframind_project.ipynb\" target=\"_parent\"><img src=\"https://colab.research.google.com/assets/colab-badge.svg\" alt=\"Open In Colab\"/></a>"
      ]
    },
    {
      "cell_type": "code",
      "metadata": {
        "id": "DwBgW2ya5ghV"
      },
      "source": [
        "import spacy\r\n",
        "from spacy.lang.en.stop_words import STOP_WORDS\r\n",
        "from string import punctuation"
      ],
      "execution_count": 1,
      "outputs": []
    },
    {
      "cell_type": "code",
      "metadata": {
        "id": "JgOqKYL05zNW"
      },
      "source": [
        "stopwords = list(STOP_WORDS)"
      ],
      "execution_count": 2,
      "outputs": []
    },
    {
      "cell_type": "code",
      "metadata": {
        "id": "1o3ClTk555ll"
      },
      "source": [
        "nlp = spacy.load('en_core_web_sm')"
      ],
      "execution_count": 3,
      "outputs": []
    },
    {
      "cell_type": "code",
      "metadata": {
        "id": "qb0aiegX6AHF"
      },
      "source": [
        "text = \"\"\" Mahendra Singh Dhoni (About this soundpronunciation (help·info) born 7 July 1981), is a former Indian international cricketer who captained the Indian national team in limited-overs formats from 2007 to 2017 and in Test cricket from 2008 to 2014. Under his captaincy, India won the inaugural 2007 ICC World Twenty20, the 2010 and 2016 Asia Cups, the 2011 ICC Cricket World Cup and the 2013 ICC Champions Trophy. A right-handed middle-order batsman and wicket-keeper, Dhoni is one of the highest run scorers in One Day Internationals (ODIs) with more than 10,000 runs scored and is considered an effective \"finisher\" in limited-overs formats.[2][3][4] He is widely regarded as one of the greatest wicket-keeper batsmen and captains in the history of the game.[5][6][7][8][9][10][11] He was also the first wicket-keeper to effect 100 stumpings in ODI cricket.[12]\r\n",
        "\r\n",
        "Dhoni made his ODI debut on 23 December 2004 against Bangladesh, and played his first Test a year later against Sri Lanka. He has been the recipient of many awards, including the ICC ODI Player of the Year award in 2008 and 2009 (the first player to win the award twice), the Rajiv Gandhi Khel Ratna award in 2007, the Padma Shri, India's fourth highest civilian honour, in 2009 and the Padma Bhushan, India's third highest civilian honour, in 2018.[13] Dhoni was named as the captain of the ICC World Test XI in 2009, 2010 and 2013. He has also been selected a record 8 times in ICC World ODI XI teams, 5 times as captain. The Indian Territorial Army conferred the honorary rank of Lieutenant Colonel[14] to Dhoni on 1 November 2011. He is the second Indian cricketer after Kapil Dev to receive this honour.\r\n",
        "\r\n",
        "Dhoni also holds numerous captaincy records such as the most wins by an Indian captain in ODIs and T20Is, and most back-to-back wins by an Indian captain in ODIs. He took over the ODI captaincy from Rahul Dravid in 2007 and led the team to its first-ever bilateral ODI series wins in Sri Lanka and New Zealand. In June 2013, when India defeated England in the final of the Champions Trophy in England, Dhoni became the first captain to win all three ICC limited-overs trophies (World Cup, Champions Trophy and the World Twenty20). After taking up the Test captaincy in 2008, he led the team to series wins in New Zealand and the West Indies, and the Border-Gavaskar Trophy in 2008, 2010 and 2013. In 2009, Dhoni also led the Indian team to number one position for the first time in the ICC Test rankings.\r\n",
        "\"\"\""
      ],
      "execution_count": 4,
      "outputs": []
    },
    {
      "cell_type": "code",
      "metadata": {
        "id": "CyPN5f-g6HYm"
      },
      "source": [
        "doc = nlp(text)"
      ],
      "execution_count": 5,
      "outputs": []
    },
    {
      "cell_type": "code",
      "metadata": {
        "colab": {
          "base_uri": "https://localhost:8080/"
        },
        "id": "ywGCB3k86TCm",
        "outputId": "048858ae-d643-4f7f-c266-a5f588db7b21"
      },
      "source": [
        "tokens = [token.text for token in doc]\r\n",
        "print(tokens)"
      ],
      "execution_count": 6,
      "outputs": [
        {
          "output_type": "stream",
          "text": [
            "[' ', 'Mahendra', 'Singh', 'Dhoni', '(', 'About', 'this', 'soundpronunciation', '(', 'help·info', ')', 'born', '7', 'July', '1981', ')', ',', 'is', 'a', 'former', 'Indian', 'international', 'cricketer', 'who', 'captained', 'the', 'Indian', 'national', 'team', 'in', 'limited', '-', 'overs', 'formats', 'from', '2007', 'to', '2017', 'and', 'in', 'Test', 'cricket', 'from', '2008', 'to', '2014', '.', 'Under', 'his', 'captaincy', ',', 'India', 'won', 'the', 'inaugural', '2007', 'ICC', 'World', 'Twenty20', ',', 'the', '2010', 'and', '2016', 'Asia', 'Cups', ',', 'the', '2011', 'ICC', 'Cricket', 'World', 'Cup', 'and', 'the', '2013', 'ICC', 'Champions', 'Trophy', '.', 'A', 'right', '-', 'handed', 'middle', '-', 'order', 'batsman', 'and', 'wicket', '-', 'keeper', ',', 'Dhoni', 'is', 'one', 'of', 'the', 'highest', 'run', 'scorers', 'in', 'One', 'Day', 'Internationals', '(', 'ODIs', ')', 'with', 'more', 'than', '10,000', 'runs', 'scored', 'and', 'is', 'considered', 'an', 'effective', '\"', 'finisher', '\"', 'in', 'limited', '-', 'overs', 'formats.[2][3][4', ']', 'He', 'is', 'widely', 'regarded', 'as', 'one', 'of', 'the', 'greatest', 'wicket', '-', 'keeper', 'batsmen', 'and', 'captains', 'in', 'the', 'history', 'of', 'the', 'game.[5][6][7][8][9][10][11', ']', 'He', 'was', 'also', 'the', 'first', 'wicket', '-', 'keeper', 'to', 'effect', '100', 'stumpings', 'in', 'ODI', 'cricket.[12', ']', '\\n\\n', 'Dhoni', 'made', 'his', 'ODI', 'debut', 'on', '23', 'December', '2004', 'against', 'Bangladesh', ',', 'and', 'played', 'his', 'first', 'Test', 'a', 'year', 'later', 'against', 'Sri', 'Lanka', '.', 'He', 'has', 'been', 'the', 'recipient', 'of', 'many', 'awards', ',', 'including', 'the', 'ICC', 'ODI', 'Player', 'of', 'the', 'Year', 'award', 'in', '2008', 'and', '2009', '(', 'the', 'first', 'player', 'to', 'win', 'the', 'award', 'twice', ')', ',', 'the', 'Rajiv', 'Gandhi', 'Khel', 'Ratna', 'award', 'in', '2007', ',', 'the', 'Padma', 'Shri', ',', 'India', \"'s\", 'fourth', 'highest', 'civilian', 'honour', ',', 'in', '2009', 'and', 'the', 'Padma', 'Bhushan', ',', 'India', \"'s\", 'third', 'highest', 'civilian', 'honour', ',', 'in', '2018.[13', ']', 'Dhoni', 'was', 'named', 'as', 'the', 'captain', 'of', 'the', 'ICC', 'World', 'Test', 'XI', 'in', '2009', ',', '2010', 'and', '2013', '.', 'He', 'has', 'also', 'been', 'selected', 'a', 'record', '8', 'times', 'in', 'ICC', 'World', 'ODI', 'XI', 'teams', ',', '5', 'times', 'as', 'captain', '.', 'The', 'Indian', 'Territorial', 'Army', 'conferred', 'the', 'honorary', 'rank', 'of', 'Lieutenant', 'Colonel[14', ']', 'to', 'Dhoni', 'on', '1', 'November', '2011', '.', 'He', 'is', 'the', 'second', 'Indian', 'cricketer', 'after', 'Kapil', 'Dev', 'to', 'receive', 'this', 'honour', '.', '\\n\\n', 'Dhoni', 'also', 'holds', 'numerous', 'captaincy', 'records', 'such', 'as', 'the', 'most', 'wins', 'by', 'an', 'Indian', 'captain', 'in', 'ODIs', 'and', 'T20Is', ',', 'and', 'most', 'back', '-', 'to', '-', 'back', 'wins', 'by', 'an', 'Indian', 'captain', 'in', 'ODIs', '.', 'He', 'took', 'over', 'the', 'ODI', 'captaincy', 'from', 'Rahul', 'Dravid', 'in', '2007', 'and', 'led', 'the', 'team', 'to', 'its', 'first', '-', 'ever', 'bilateral', 'ODI', 'series', 'wins', 'in', 'Sri', 'Lanka', 'and', 'New', 'Zealand', '.', 'In', 'June', '2013', ',', 'when', 'India', 'defeated', 'England', 'in', 'the', 'final', 'of', 'the', 'Champions', 'Trophy', 'in', 'England', ',', 'Dhoni', 'became', 'the', 'first', 'captain', 'to', 'win', 'all', 'three', 'ICC', 'limited', '-', 'overs', 'trophies', '(', 'World', 'Cup', ',', 'Champions', 'Trophy', 'and', 'the', 'World', 'Twenty20', ')', '.', 'After', 'taking', 'up', 'the', 'Test', 'captaincy', 'in', '2008', ',', 'he', 'led', 'the', 'team', 'to', 'series', 'wins', 'in', 'New', 'Zealand', 'and', 'the', 'West', 'Indies', ',', 'and', 'the', 'Border', '-', 'Gavaskar', 'Trophy', 'in', '2008', ',', '2010', 'and', '2013', '.', 'In', '2009', ',', 'Dhoni', 'also', 'led', 'the', 'Indian', 'team', 'to', 'number', 'one', 'position', 'for', 'the', 'first', 'time', 'in', 'the', 'ICC', 'Test', 'rankings', '.', '\\n']\n"
          ],
          "name": "stdout"
        }
      ]
    },
    {
      "cell_type": "code",
      "metadata": {
        "id": "WMQa8u-R6dgO"
      },
      "source": [
        "punctuation = punctuation + '\\n'"
      ],
      "execution_count": 7,
      "outputs": []
    },
    {
      "cell_type": "code",
      "metadata": {
        "colab": {
          "base_uri": "https://localhost:8080/"
        },
        "id": "uKiBRaXy6iu_",
        "outputId": "6a7d6fef-3385-4fce-991e-c2ef02923e38"
      },
      "source": [
        "word_frequencies = {}\r\n",
        "for word in doc:\r\n",
        "    if word.text.lower() not in stopwords:\r\n",
        "        if word.text.lower() not in punctuation:\r\n",
        "            if word.text not in word_frequencies.keys():\r\n",
        "                word_frequencies[word.text] = 1\r\n",
        "            else:\r\n",
        "                word_frequencies[word.text] += 1\r\n",
        "                \r\n",
        "print(word_frequencies)"
      ],
      "execution_count": 8,
      "outputs": [
        {
          "output_type": "stream",
          "text": [
            "{' ': 1, 'Mahendra': 1, 'Singh': 1, 'Dhoni': 8, 'soundpronunciation': 1, 'help·info': 1, 'born': 1, '7': 1, 'July': 1, '1981': 1, 'Indian': 7, 'international': 1, 'cricketer': 2, 'captained': 1, 'national': 1, 'team': 4, 'limited': 3, 'overs': 3, 'formats': 1, '2007': 4, '2017': 1, 'Test': 5, 'cricket': 1, '2008': 4, '2014': 1, 'captaincy': 4, 'India': 4, 'won': 1, 'inaugural': 1, 'ICC': 8, 'World': 6, 'Twenty20': 2, '2010': 3, '2016': 1, 'Asia': 1, 'Cups': 1, '2011': 2, 'Cricket': 1, 'Cup': 2, '2013': 4, 'Champions': 3, 'Trophy': 4, 'right': 1, 'handed': 1, 'middle': 1, 'order': 1, 'batsman': 1, 'wicket': 3, 'keeper': 3, 'highest': 3, 'run': 1, 'scorers': 1, 'Day': 1, 'Internationals': 1, 'ODIs': 3, '10,000': 1, 'runs': 1, 'scored': 1, 'considered': 1, 'effective': 1, 'finisher': 1, 'formats.[2][3][4': 1, 'widely': 1, 'regarded': 1, 'greatest': 1, 'batsmen': 1, 'captains': 1, 'history': 1, 'game.[5][6][7][8][9][10][11': 1, 'effect': 1, '100': 1, 'stumpings': 1, 'ODI': 6, 'cricket.[12': 1, '\\n\\n': 2, 'debut': 1, '23': 1, 'December': 1, '2004': 1, 'Bangladesh': 1, 'played': 1, 'year': 1, 'later': 1, 'Sri': 2, 'Lanka': 2, 'recipient': 1, 'awards': 1, 'including': 1, 'Player': 1, 'Year': 1, 'award': 3, '2009': 4, 'player': 1, 'win': 2, 'twice': 1, 'Rajiv': 1, 'Gandhi': 1, 'Khel': 1, 'Ratna': 1, 'Padma': 2, 'Shri': 1, 'fourth': 1, 'civilian': 2, 'honour': 3, 'Bhushan': 1, '2018.[13': 1, 'named': 1, 'captain': 5, 'XI': 2, 'selected': 1, 'record': 1, '8': 1, 'times': 2, 'teams': 1, '5': 1, 'Territorial': 1, 'Army': 1, 'conferred': 1, 'honorary': 1, 'rank': 1, 'Lieutenant': 1, 'Colonel[14': 1, '1': 1, 'November': 1, 'second': 1, 'Kapil': 1, 'Dev': 1, 'receive': 1, 'holds': 1, 'numerous': 1, 'records': 1, 'wins': 4, 'T20Is': 1, 'took': 1, 'Rahul': 1, 'Dravid': 1, 'led': 3, 'bilateral': 1, 'series': 2, 'New': 2, 'Zealand': 2, 'June': 1, 'defeated': 1, 'England': 2, 'final': 1, 'trophies': 1, 'taking': 1, 'West': 1, 'Indies': 1, 'Border': 1, 'Gavaskar': 1, 'number': 1, 'position': 1, 'time': 1, 'rankings': 1}\n"
          ],
          "name": "stdout"
        }
      ]
    },
    {
      "cell_type": "code",
      "metadata": {
        "colab": {
          "base_uri": "https://localhost:8080/"
        },
        "id": "mOpN_4Y06mle",
        "outputId": "84b9af3d-4fb8-49a8-a59d-dd0115d5474a"
      },
      "source": [
        "max_frequency = max(word_frequencies.values())\r\n",
        "max_frequency"
      ],
      "execution_count": 9,
      "outputs": [
        {
          "output_type": "execute_result",
          "data": {
            "text/plain": [
              "8"
            ]
          },
          "metadata": {
            "tags": []
          },
          "execution_count": 9
        }
      ]
    },
    {
      "cell_type": "code",
      "metadata": {
        "colab": {
          "base_uri": "https://localhost:8080/"
        },
        "id": "-EFAeWxj6rC3",
        "outputId": "0395d67b-beb8-42c2-9d43-99109c5e930f"
      },
      "source": [
        "for word in word_frequencies.keys():\r\n",
        "    word_frequencies[word] = word_frequencies[word]/max_frequency\r\n",
        "\r\n",
        "print(word_frequencies)"
      ],
      "execution_count": 10,
      "outputs": [
        {
          "output_type": "stream",
          "text": [
            "{' ': 0.125, 'Mahendra': 0.125, 'Singh': 0.125, 'Dhoni': 1.0, 'soundpronunciation': 0.125, 'help·info': 0.125, 'born': 0.125, '7': 0.125, 'July': 0.125, '1981': 0.125, 'Indian': 0.875, 'international': 0.125, 'cricketer': 0.25, 'captained': 0.125, 'national': 0.125, 'team': 0.5, 'limited': 0.375, 'overs': 0.375, 'formats': 0.125, '2007': 0.5, '2017': 0.125, 'Test': 0.625, 'cricket': 0.125, '2008': 0.5, '2014': 0.125, 'captaincy': 0.5, 'India': 0.5, 'won': 0.125, 'inaugural': 0.125, 'ICC': 1.0, 'World': 0.75, 'Twenty20': 0.25, '2010': 0.375, '2016': 0.125, 'Asia': 0.125, 'Cups': 0.125, '2011': 0.25, 'Cricket': 0.125, 'Cup': 0.25, '2013': 0.5, 'Champions': 0.375, 'Trophy': 0.5, 'right': 0.125, 'handed': 0.125, 'middle': 0.125, 'order': 0.125, 'batsman': 0.125, 'wicket': 0.375, 'keeper': 0.375, 'highest': 0.375, 'run': 0.125, 'scorers': 0.125, 'Day': 0.125, 'Internationals': 0.125, 'ODIs': 0.375, '10,000': 0.125, 'runs': 0.125, 'scored': 0.125, 'considered': 0.125, 'effective': 0.125, 'finisher': 0.125, 'formats.[2][3][4': 0.125, 'widely': 0.125, 'regarded': 0.125, 'greatest': 0.125, 'batsmen': 0.125, 'captains': 0.125, 'history': 0.125, 'game.[5][6][7][8][9][10][11': 0.125, 'effect': 0.125, '100': 0.125, 'stumpings': 0.125, 'ODI': 0.75, 'cricket.[12': 0.125, '\\n\\n': 0.25, 'debut': 0.125, '23': 0.125, 'December': 0.125, '2004': 0.125, 'Bangladesh': 0.125, 'played': 0.125, 'year': 0.125, 'later': 0.125, 'Sri': 0.25, 'Lanka': 0.25, 'recipient': 0.125, 'awards': 0.125, 'including': 0.125, 'Player': 0.125, 'Year': 0.125, 'award': 0.375, '2009': 0.5, 'player': 0.125, 'win': 0.25, 'twice': 0.125, 'Rajiv': 0.125, 'Gandhi': 0.125, 'Khel': 0.125, 'Ratna': 0.125, 'Padma': 0.25, 'Shri': 0.125, 'fourth': 0.125, 'civilian': 0.25, 'honour': 0.375, 'Bhushan': 0.125, '2018.[13': 0.125, 'named': 0.125, 'captain': 0.625, 'XI': 0.25, 'selected': 0.125, 'record': 0.125, '8': 0.125, 'times': 0.25, 'teams': 0.125, '5': 0.125, 'Territorial': 0.125, 'Army': 0.125, 'conferred': 0.125, 'honorary': 0.125, 'rank': 0.125, 'Lieutenant': 0.125, 'Colonel[14': 0.125, '1': 0.125, 'November': 0.125, 'second': 0.125, 'Kapil': 0.125, 'Dev': 0.125, 'receive': 0.125, 'holds': 0.125, 'numerous': 0.125, 'records': 0.125, 'wins': 0.5, 'T20Is': 0.125, 'took': 0.125, 'Rahul': 0.125, 'Dravid': 0.125, 'led': 0.375, 'bilateral': 0.125, 'series': 0.25, 'New': 0.25, 'Zealand': 0.25, 'June': 0.125, 'defeated': 0.125, 'England': 0.25, 'final': 0.125, 'trophies': 0.125, 'taking': 0.125, 'West': 0.125, 'Indies': 0.125, 'Border': 0.125, 'Gavaskar': 0.125, 'number': 0.125, 'position': 0.125, 'time': 0.125, 'rankings': 0.125}\n"
          ],
          "name": "stdout"
        }
      ]
    },
    {
      "cell_type": "code",
      "metadata": {
        "colab": {
          "base_uri": "https://localhost:8080/"
        },
        "id": "uIiHc3NN6vqf",
        "outputId": "3b295f6e-5c8e-406f-8057-8a5a07333bbd"
      },
      "source": [
        "sentence_tokens = [sent for sent in doc.sents]\r\n",
        "print(sentence_tokens)"
      ],
      "execution_count": 11,
      "outputs": [
        {
          "output_type": "stream",
          "text": [
            "[ Mahendra Singh Dhoni (, About this soundpronunciation (help·info) born 7 July 1981), is a former Indian international cricketer who captained the Indian national team in limited-overs formats from 2007 to 2017 and in Test cricket from 2008 to 2014., Under his captaincy, India won the inaugural 2007 ICC World Twenty20, the 2010 and 2016 Asia Cups, the 2011 ICC Cricket World Cup and the 2013 ICC Champions Trophy., A right-handed middle-order batsman and wicket-keeper, , Dhoni is one of the highest run scorers in One Day Internationals (ODIs) with more than 10,000 runs scored and is considered an effective \"finisher\" in limited-overs formats.[2][3][4], He is widely regarded as one of the greatest wicket-keeper batsmen and captains in the history of the game.[5][6][7][8][9][10][11], He was also the first wicket-keeper to effect 100 stumpings in ODI cricket.[12]\n",
            "\n",
            ", Dhoni made his ODI debut on 23 December 2004 against Bangladesh, and played his first Test a year later against Sri Lanka., He has been the recipient of many awards, including the ICC ODI Player of the Year award in 2008 and 2009 (the first player to win the award twice), the Rajiv Gandhi Khel Ratna award in 2007, the Padma Shri, India's fourth highest civilian honour, in 2009 and the Padma Bhushan, India's third highest civilian honour, in 2018.[13], Dhoni was named as the captain of the ICC World Test XI in 2009, 2010 and 2013., He has also been selected a record 8 times in ICC World ODI XI teams, 5 times as captain., The Indian Territorial Army conferred the honorary rank of Lieutenant Colonel[14] to Dhoni on 1 November 2011., He is the second Indian cricketer after Kapil Dev to receive this honour.\n",
            "\n",
            ", Dhoni also holds numerous captaincy records such as the most wins by an Indian captain in ODIs and T20Is, and most back-to-back wins by an Indian captain in ODIs., He took over the ODI captaincy from Rahul Dravid in 2007 and led the team to its first-ever bilateral ODI series wins in Sri Lanka and New Zealand., In June 2013, when India defeated England in the final of the Champions Trophy in England, Dhoni became the first captain to win all three ICC limited-overs trophies (World Cup, Champions Trophy and the World Twenty20)., After taking up the Test captaincy in 2008, he led the team to series wins in New Zealand and the West Indies, and the Border-Gavaskar Trophy in 2008, 2010 and 2013., In 2009, Dhoni also led the Indian team to number one position for the first time in the ICC Test rankings.\n",
            "]\n"
          ],
          "name": "stdout"
        }
      ]
    },
    {
      "cell_type": "code",
      "metadata": {
        "colab": {
          "base_uri": "https://localhost:8080/"
        },
        "id": "fTZFX03C60O_",
        "outputId": "598b1b09-f4ab-401c-e4c1-ea4bc7de904d"
      },
      "source": [
        "sentence_scores = {}\r\n",
        "for sent in sentence_tokens:\r\n",
        "    for word in sent:\r\n",
        "        if word.text.lower() in word_frequencies.keys():\r\n",
        "            if sent not in sentence_scores.keys():\r\n",
        "                sentence_scores[sent] = word_frequencies[word.text.lower()]\r\n",
        "            else:\r\n",
        "                sentence_scores[sent] += word_frequencies[word.text.lower()]\r\n",
        "                \r\n",
        "sentence_scores"
      ],
      "execution_count": 12,
      "outputs": [
        {
          "output_type": "execute_result",
          "data": {
            "text/plain": [
              "{ Mahendra Singh Dhoni (: 0.125,\n",
              " About this soundpronunciation (help·info) born 7 July 1981), is a former Indian international cricketer who captained the Indian national team in limited-overs formats from 2007 to 2017 and in Test cricket from 2008 to 2014.: 4.0,\n",
              " Under his captaincy, India won the inaugural 2007 ICC World Twenty20, the 2010 and 2016 Asia Cups, the 2011 ICC Cricket World Cup and the 2013 ICC Champions Trophy.: 2.625,\n",
              " A right-handed middle-order batsman and wicket-keeper: 1.375,\n",
              " , Dhoni is one of the highest run scorers in One Day Internationals (ODIs) with more than 10,000 runs scored and is considered an effective \"finisher\" in limited-overs formats.[2][3][4]: 2.25,\n",
              " He is widely regarded as one of the greatest wicket-keeper batsmen and captains in the history of the game.[5][6][7][8][9][10][11]: 1.625,\n",
              " He was also the first wicket-keeper to effect 100 stumpings in ODI cricket.[12]\n",
              " : 1.5,\n",
              " Dhoni made his ODI debut on 23 December 2004 against Bangladesh, and played his first Test a year later against Sri Lanka.: 0.75,\n",
              " He has been the recipient of many awards, including the ICC ODI Player of the Year award in 2008 and 2009 (the first player to win the award twice), the Rajiv Gandhi Khel Ratna award in 2007, the Padma Shri, India's fourth highest civilian honour, in 2009 and the Padma Bhushan, India's third highest civilian honour, in 2018.[13]: 6.5,\n",
              " Dhoni was named as the captain of the ICC World Test XI in 2009, 2010 and 2013.: 2.125,\n",
              " He has also been selected a record 8 times in ICC World ODI XI teams, 5 times as captain.: 1.75,\n",
              " The Indian Territorial Army conferred the honorary rank of Lieutenant Colonel[14] to Dhoni on 1 November 2011.: 0.75,\n",
              " He is the second Indian cricketer after Kapil Dev to receive this honour.\n",
              " : 1.125,\n",
              " Dhoni also holds numerous captaincy records such as the most wins by an Indian captain in ODIs and T20Is, and most back-to-back wins by an Indian captain in ODIs.: 3.125,\n",
              " He took over the ODI captaincy from Rahul Dravid in 2007 and led the team to its first-ever bilateral ODI series wins in Sri Lanka and New Zealand.: 2.875,\n",
              " In June 2013, when India defeated England in the final of the Champions Trophy in England, Dhoni became the first captain to win all three ICC limited-overs trophies (World Cup, Champions Trophy and the World Twenty20).: 2.5,\n",
              " After taking up the Test captaincy in 2008, he led the team to series wins in New Zealand and the West Indies, and the Border-Gavaskar Trophy in 2008, 2010 and 2013.: 4.125,\n",
              " In 2009, Dhoni also led the Indian team to number one position for the first time in the ICC Test rankings.: 1.875}"
            ]
          },
          "metadata": {
            "tags": []
          },
          "execution_count": 12
        }
      ]
    },
    {
      "cell_type": "code",
      "metadata": {
        "id": "_Eqjm7ik67Rq"
      },
      "source": [
        "from heapq import nlargest"
      ],
      "execution_count": 13,
      "outputs": []
    },
    {
      "cell_type": "code",
      "metadata": {
        "colab": {
          "base_uri": "https://localhost:8080/"
        },
        "id": "4T8XHNTo7EY8",
        "outputId": "c3351360-2675-420c-9e4d-e131149aaa97"
      },
      "source": [
        "select_length = int(len(sentence_tokens)*0.3)\r\n",
        "select_length"
      ],
      "execution_count": 14,
      "outputs": [
        {
          "output_type": "execute_result",
          "data": {
            "text/plain": [
              "5"
            ]
          },
          "metadata": {
            "tags": []
          },
          "execution_count": 14
        }
      ]
    },
    {
      "cell_type": "code",
      "metadata": {
        "colab": {
          "base_uri": "https://localhost:8080/"
        },
        "id": "NpXLB1jl7L06",
        "outputId": "c3c8adf9-dddc-45e7-9a53-2f42d20dc234"
      },
      "source": [
        "summary = nlargest(select_length, sentence_scores, key = sentence_scores.get)\r\n",
        "summary"
      ],
      "execution_count": 15,
      "outputs": [
        {
          "output_type": "execute_result",
          "data": {
            "text/plain": [
              "[He has been the recipient of many awards, including the ICC ODI Player of the Year award in 2008 and 2009 (the first player to win the award twice), the Rajiv Gandhi Khel Ratna award in 2007, the Padma Shri, India's fourth highest civilian honour, in 2009 and the Padma Bhushan, India's third highest civilian honour, in 2018.[13],\n",
              " After taking up the Test captaincy in 2008, he led the team to series wins in New Zealand and the West Indies, and the Border-Gavaskar Trophy in 2008, 2010 and 2013.,\n",
              " About this soundpronunciation (help·info) born 7 July 1981), is a former Indian international cricketer who captained the Indian national team in limited-overs formats from 2007 to 2017 and in Test cricket from 2008 to 2014.,\n",
              " Dhoni also holds numerous captaincy records such as the most wins by an Indian captain in ODIs and T20Is, and most back-to-back wins by an Indian captain in ODIs.,\n",
              " He took over the ODI captaincy from Rahul Dravid in 2007 and led the team to its first-ever bilateral ODI series wins in Sri Lanka and New Zealand.]"
            ]
          },
          "metadata": {
            "tags": []
          },
          "execution_count": 15
        }
      ]
    },
    {
      "cell_type": "code",
      "metadata": {
        "id": "5hPkWEll7Qvv"
      },
      "source": [
        "final_summary = [word.text for word in summary]\r\n",
        "summary = ' '.join(final_summary)"
      ],
      "execution_count": 16,
      "outputs": []
    },
    {
      "cell_type": "code",
      "metadata": {
        "colab": {
          "base_uri": "https://localhost:8080/"
        },
        "id": "t653bhB57VYO",
        "outputId": "e84c25c5-a9b3-428e-b6d4-fcb1d6f49353"
      },
      "source": [
        "print(text)"
      ],
      "execution_count": 17,
      "outputs": [
        {
          "output_type": "stream",
          "text": [
            " Mahendra Singh Dhoni (About this soundpronunciation (help·info) born 7 July 1981), is a former Indian international cricketer who captained the Indian national team in limited-overs formats from 2007 to 2017 and in Test cricket from 2008 to 2014. Under his captaincy, India won the inaugural 2007 ICC World Twenty20, the 2010 and 2016 Asia Cups, the 2011 ICC Cricket World Cup and the 2013 ICC Champions Trophy. A right-handed middle-order batsman and wicket-keeper, Dhoni is one of the highest run scorers in One Day Internationals (ODIs) with more than 10,000 runs scored and is considered an effective \"finisher\" in limited-overs formats.[2][3][4] He is widely regarded as one of the greatest wicket-keeper batsmen and captains in the history of the game.[5][6][7][8][9][10][11] He was also the first wicket-keeper to effect 100 stumpings in ODI cricket.[12]\n",
            "\n",
            "Dhoni made his ODI debut on 23 December 2004 against Bangladesh, and played his first Test a year later against Sri Lanka. He has been the recipient of many awards, including the ICC ODI Player of the Year award in 2008 and 2009 (the first player to win the award twice), the Rajiv Gandhi Khel Ratna award in 2007, the Padma Shri, India's fourth highest civilian honour, in 2009 and the Padma Bhushan, India's third highest civilian honour, in 2018.[13] Dhoni was named as the captain of the ICC World Test XI in 2009, 2010 and 2013. He has also been selected a record 8 times in ICC World ODI XI teams, 5 times as captain. The Indian Territorial Army conferred the honorary rank of Lieutenant Colonel[14] to Dhoni on 1 November 2011. He is the second Indian cricketer after Kapil Dev to receive this honour.\n",
            "\n",
            "Dhoni also holds numerous captaincy records such as the most wins by an Indian captain in ODIs and T20Is, and most back-to-back wins by an Indian captain in ODIs. He took over the ODI captaincy from Rahul Dravid in 2007 and led the team to its first-ever bilateral ODI series wins in Sri Lanka and New Zealand. In June 2013, when India defeated England in the final of the Champions Trophy in England, Dhoni became the first captain to win all three ICC limited-overs trophies (World Cup, Champions Trophy and the World Twenty20). After taking up the Test captaincy in 2008, he led the team to series wins in New Zealand and the West Indies, and the Border-Gavaskar Trophy in 2008, 2010 and 2013. In 2009, Dhoni also led the Indian team to number one position for the first time in the ICC Test rankings.\n",
            "\n"
          ],
          "name": "stdout"
        }
      ]
    },
    {
      "cell_type": "code",
      "metadata": {
        "colab": {
          "base_uri": "https://localhost:8080/"
        },
        "id": "IdETUm3n7Zuq",
        "outputId": "f51b5f74-c80a-458a-9530-9d45b4845c42"
      },
      "source": [
        "len(text)"
      ],
      "execution_count": 18,
      "outputs": [
        {
          "output_type": "execute_result",
          "data": {
            "text/plain": [
              "2479"
            ]
          },
          "metadata": {
            "tags": []
          },
          "execution_count": 18
        }
      ]
    },
    {
      "cell_type": "code",
      "metadata": {
        "colab": {
          "base_uri": "https://localhost:8080/"
        },
        "id": "DXikE3tF7dhD",
        "outputId": "e4136707-0013-4fd4-f74c-95fce27327d1"
      },
      "source": [
        "len(summary)"
      ],
      "execution_count": 19,
      "outputs": [
        {
          "output_type": "execute_result",
          "data": {
            "text/plain": [
              "1032"
            ]
          },
          "metadata": {
            "tags": []
          },
          "execution_count": 19
        }
      ]
    },
    {
      "cell_type": "markdown",
      "metadata": {
        "id": "1rWCe_Nra4YU"
      },
      "source": [
        "# Building Text Summarization using TF-IDF Model"
      ]
    },
    {
      "cell_type": "code",
      "metadata": {
        "id": "R1b7fEpY7i5l",
        "colab": {
          "base_uri": "https://localhost:8080/"
        },
        "outputId": "b37f0df7-19f0-4c7c-8375-284d2362d8dc"
      },
      "source": [
        "from sklearn.feature_extraction.text import TfidfVectorizer\r\n",
        "import nltk\r\n",
        "nltk.download('punkt')\r\n",
        "import numpy as np"
      ],
      "execution_count": 29,
      "outputs": [
        {
          "output_type": "stream",
          "text": [
            "[nltk_data] Downloading package punkt to /root/nltk_data...\n",
            "[nltk_data]   Package punkt is already up-to-date!\n"
          ],
          "name": "stdout"
        }
      ]
    },
    {
      "cell_type": "code",
      "metadata": {
        "id": "kdhJj8IRB4C0"
      },
      "source": [
        "sentences=nltk.sent_tokenize(text)\r\n"
      ],
      "execution_count": 21,
      "outputs": []
    },
    {
      "cell_type": "code",
      "metadata": {
        "colab": {
          "base_uri": "https://localhost:8080/"
        },
        "id": "QxVorvkBbo2x",
        "outputId": "7dc45a11-6c05-4ccf-b7be-4b5b4767679f"
      },
      "source": [
        "print(\"Senetence is: \\n\", sentences)"
      ],
      "execution_count": 22,
      "outputs": [
        {
          "output_type": "stream",
          "text": [
            "Senetence is: \n",
            " [' Mahendra Singh Dhoni (About this soundpronunciation (help·info) born 7 July 1981), is a former Indian international cricketer who captained the Indian national team in limited-overs formats from 2007 to 2017 and in Test cricket from 2008 to 2014.', 'Under his captaincy, India won the inaugural 2007 ICC World Twenty20, the 2010 and 2016 Asia Cups, the 2011 ICC Cricket World Cup and the 2013 ICC Champions Trophy.', 'A right-handed middle-order batsman and wicket-keeper, Dhoni is one of the highest run scorers in One Day Internationals (ODIs) with more than 10,000 runs scored and is considered an effective \"finisher\" in limited-overs formats.', '[2][3][4] He is widely regarded as one of the greatest wicket-keeper batsmen and captains in the history of the game.', '[5][6][7][8][9][10][11] He was also the first wicket-keeper to effect 100 stumpings in ODI cricket.', '[12]\\n\\nDhoni made his ODI debut on 23 December 2004 against Bangladesh, and played his first Test a year later against Sri Lanka.', \"He has been the recipient of many awards, including the ICC ODI Player of the Year award in 2008 and 2009 (the first player to win the award twice), the Rajiv Gandhi Khel Ratna award in 2007, the Padma Shri, India's fourth highest civilian honour, in 2009 and the Padma Bhushan, India's third highest civilian honour, in 2018.\", '[13] Dhoni was named as the captain of the ICC World Test XI in 2009, 2010 and 2013.', 'He has also been selected a record 8 times in ICC World ODI XI teams, 5 times as captain.', 'The Indian Territorial Army conferred the honorary rank of Lieutenant Colonel[14] to Dhoni on 1 November 2011.', 'He is the second Indian cricketer after Kapil Dev to receive this honour.', 'Dhoni also holds numerous captaincy records such as the most wins by an Indian captain in ODIs and T20Is, and most back-to-back wins by an Indian captain in ODIs.', 'He took over the ODI captaincy from Rahul Dravid in 2007 and led the team to its first-ever bilateral ODI series wins in Sri Lanka and New Zealand.', 'In June 2013, when India defeated England in the final of the Champions Trophy in England, Dhoni became the first captain to win all three ICC limited-overs trophies (World Cup, Champions Trophy and the World Twenty20).', 'After taking up the Test captaincy in 2008, he led the team to series wins in New Zealand and the West Indies, and the Border-Gavaskar Trophy in 2008, 2010 and 2013.', 'In 2009, Dhoni also led the Indian team to number one position for the first time in the ICC Test rankings.']\n"
          ],
          "name": "stdout"
        }
      ]
    },
    {
      "cell_type": "code",
      "metadata": {
        "id": "6hYmYjEJb7gS"
      },
      "source": [
        "#Creating sentence organizer\r\n",
        "# Let's create an organizer which will store the sentence ordering to later reorganize the \r\n",
        "# scored sentences in their correct order\r\n",
        "sentence_organizer = {k:v for v,k in enumerate(sentences)}"
      ],
      "execution_count": 23,
      "outputs": []
    },
    {
      "cell_type": "code",
      "metadata": {
        "colab": {
          "base_uri": "https://localhost:8080/"
        },
        "id": "_q-tk2RBcyop",
        "outputId": "f9ea9658-951e-482c-9fce-caa1c11eb274"
      },
      "source": [
        "#Peeking into our sentence organizer\r\n",
        "print(\"Our sentence organizer: \\n\", sentence_organizer)"
      ],
      "execution_count": 24,
      "outputs": [
        {
          "output_type": "stream",
          "text": [
            "Our sentence organizer: \n",
            " {' Mahendra Singh Dhoni (About this soundpronunciation (help·info) born 7 July 1981), is a former Indian international cricketer who captained the Indian national team in limited-overs formats from 2007 to 2017 and in Test cricket from 2008 to 2014.': 0, 'Under his captaincy, India won the inaugural 2007 ICC World Twenty20, the 2010 and 2016 Asia Cups, the 2011 ICC Cricket World Cup and the 2013 ICC Champions Trophy.': 1, 'A right-handed middle-order batsman and wicket-keeper, Dhoni is one of the highest run scorers in One Day Internationals (ODIs) with more than 10,000 runs scored and is considered an effective \"finisher\" in limited-overs formats.': 2, '[2][3][4] He is widely regarded as one of the greatest wicket-keeper batsmen and captains in the history of the game.': 3, '[5][6][7][8][9][10][11] He was also the first wicket-keeper to effect 100 stumpings in ODI cricket.': 4, '[12]\\n\\nDhoni made his ODI debut on 23 December 2004 against Bangladesh, and played his first Test a year later against Sri Lanka.': 5, \"He has been the recipient of many awards, including the ICC ODI Player of the Year award in 2008 and 2009 (the first player to win the award twice), the Rajiv Gandhi Khel Ratna award in 2007, the Padma Shri, India's fourth highest civilian honour, in 2009 and the Padma Bhushan, India's third highest civilian honour, in 2018.\": 6, '[13] Dhoni was named as the captain of the ICC World Test XI in 2009, 2010 and 2013.': 7, 'He has also been selected a record 8 times in ICC World ODI XI teams, 5 times as captain.': 8, 'The Indian Territorial Army conferred the honorary rank of Lieutenant Colonel[14] to Dhoni on 1 November 2011.': 9, 'He is the second Indian cricketer after Kapil Dev to receive this honour.': 10, 'Dhoni also holds numerous captaincy records such as the most wins by an Indian captain in ODIs and T20Is, and most back-to-back wins by an Indian captain in ODIs.': 11, 'He took over the ODI captaincy from Rahul Dravid in 2007 and led the team to its first-ever bilateral ODI series wins in Sri Lanka and New Zealand.': 12, 'In June 2013, when India defeated England in the final of the Champions Trophy in England, Dhoni became the first captain to win all three ICC limited-overs trophies (World Cup, Champions Trophy and the World Twenty20).': 13, 'After taking up the Test captaincy in 2008, he led the team to series wins in New Zealand and the West Indies, and the Border-Gavaskar Trophy in 2008, 2010 and 2013.': 14, 'In 2009, Dhoni also led the Indian team to number one position for the first time in the ICC Test rankings.': 15}\n"
          ],
          "name": "stdout"
        }
      ]
    },
    {
      "cell_type": "code",
      "metadata": {
        "id": "f2nZxTfBdh8T"
      },
      "source": [
        "#Creating TF-IDF model\r\n",
        "tf_idf_vectorizer = TfidfVectorizer(min_df=2,  max_features=None, \r\n",
        "                                    strip_accents='unicode', \r\n",
        "                                    analyzer='word',\r\n",
        "                                    token_pattern=r'\\w{1,}',\r\n",
        "                                    ngram_range=(1, 3), \r\n",
        "                                    use_idf=1,smooth_idf=1,\r\n",
        "                                    sublinear_tf=1,\r\n",
        "                                    stop_words = 'english')"
      ],
      "execution_count": 25,
      "outputs": []
    },
    {
      "cell_type": "code",
      "metadata": {
        "colab": {
          "base_uri": "https://localhost:8080/"
        },
        "id": "nSOAG-wSd_G7",
        "outputId": "212c04f1-46dd-4c50-ee04-68e5004a1955"
      },
      "source": [
        "tf_idf_vectorizer.fit(sentences)"
      ],
      "execution_count": 26,
      "outputs": [
        {
          "output_type": "execute_result",
          "data": {
            "text/plain": [
              "TfidfVectorizer(analyzer='word', binary=False, decode_error='strict',\n",
              "                dtype=<class 'numpy.float64'>, encoding='utf-8',\n",
              "                input='content', lowercase=True, max_df=1.0, max_features=None,\n",
              "                min_df=2, ngram_range=(1, 3), norm='l2', preprocessor=None,\n",
              "                smooth_idf=1, stop_words='english', strip_accents='unicode',\n",
              "                sublinear_tf=1, token_pattern='\\\\w{1,}', tokenizer=None,\n",
              "                use_idf=1, vocabulary=None)"
            ]
          },
          "metadata": {
            "tags": []
          },
          "execution_count": 26
        }
      ]
    },
    {
      "cell_type": "code",
      "metadata": {
        "id": "I1oa5XbcWaMY"
      },
      "source": [
        "# Transforming our sentences to TF-IDF vectors\r\n",
        "sentence_vectors = tf_idf_vectorizer.transform(sentences)\r\n",
        "# Getting sentence scores for each sentences\r\n",
        "sentence_scores = np.array(sentence_vectors.sum(axis=1)).ravel()"
      ],
      "execution_count": 30,
      "outputs": []
    },
    {
      "cell_type": "code",
      "metadata": {
        "id": "lsEtmGjNeK7Y"
      },
      "source": [
        "# Getting top-n sentences\r\n",
        "N = 3\r\n",
        "top_n_sentences = [sentences[ind] for ind in np.argsort(sentence_scores, axis=0)[::-1][:N]]"
      ],
      "execution_count": 31,
      "outputs": []
    },
    {
      "cell_type": "code",
      "metadata": {
        "colab": {
          "base_uri": "https://localhost:8080/",
          "height": 190
        },
        "id": "6kyv3gEJecZx",
        "outputId": "3ae8b709-3b6a-444b-daa9-ea7539ce50d3"
      },
      "source": [
        "# Let's now do the sentence ordering using our prebaked sentence_organizer\r\n",
        "# Let's map the scored sentences with their indexes\r\n",
        "mapped_top_n_sentences = [(sentence,sentence_organizer[sentence]) for sentence in top_n_sentences]\r\n",
        "print(\"Our top_n_sentence with their index: \\n\")\r\n",
        "for element in mapped_top_n_sentences:\r\n",
        "    print(element)\r\n",
        "\r\n",
        "# Ordering our top-n sentences in their original ordering\r\n",
        "mapped_top_n_sentences = sorted(mapped_top_n_sentences, key = lambda x: x[1])\r\n",
        "ordered_scored_sentences = [element[0] for element in mapped_top_n_sentences]\r\n",
        "\r\n",
        "# Our final summary\r\n",
        "summary1 = \" \".join(ordered_scored_sentences)\r\n",
        "summary1"
      ],
      "execution_count": 32,
      "outputs": [
        {
          "output_type": "stream",
          "text": [
            "Our top_n_sentence with their index: \n",
            "\n",
            "('Under his captaincy, India won the inaugural 2007 ICC World Twenty20, the 2010 and 2016 Asia Cups, the 2011 ICC Cricket World Cup and the 2013 ICC Champions Trophy.', 1)\n",
            "('In June 2013, when India defeated England in the final of the Champions Trophy in England, Dhoni became the first captain to win all three ICC limited-overs trophies (World Cup, Champions Trophy and the World Twenty20).', 13)\n",
            "('After taking up the Test captaincy in 2008, he led the team to series wins in New Zealand and the West Indies, and the Border-Gavaskar Trophy in 2008, 2010 and 2013.', 14)\n"
          ],
          "name": "stdout"
        },
        {
          "output_type": "execute_result",
          "data": {
            "application/vnd.google.colaboratory.intrinsic+json": {
              "type": "string"
            },
            "text/plain": [
              "'Under his captaincy, India won the inaugural 2007 ICC World Twenty20, the 2010 and 2016 Asia Cups, the 2011 ICC Cricket World Cup and the 2013 ICC Champions Trophy. In June 2013, when India defeated England in the final of the Champions Trophy in England, Dhoni became the first captain to win all three ICC limited-overs trophies (World Cup, Champions Trophy and the World Twenty20). After taking up the Test captaincy in 2008, he led the team to series wins in New Zealand and the West Indies, and the Border-Gavaskar Trophy in 2008, 2010 and 2013.'"
            ]
          },
          "metadata": {
            "tags": []
          },
          "execution_count": 32
        }
      ]
    },
    {
      "cell_type": "code",
      "metadata": {
        "colab": {
          "base_uri": "https://localhost:8080/"
        },
        "id": "NjEJfSM6en9w",
        "outputId": "a0130761-98ef-4373-bdfd-b0943da06525"
      },
      "source": [
        "print(summary1)"
      ],
      "execution_count": 33,
      "outputs": [
        {
          "output_type": "stream",
          "text": [
            "Under his captaincy, India won the inaugural 2007 ICC World Twenty20, the 2010 and 2016 Asia Cups, the 2011 ICC Cricket World Cup and the 2013 ICC Champions Trophy. In June 2013, when India defeated England in the final of the Champions Trophy in England, Dhoni became the first captain to win all three ICC limited-overs trophies (World Cup, Champions Trophy and the World Twenty20). After taking up the Test captaincy in 2008, he led the team to series wins in New Zealand and the West Indies, and the Border-Gavaskar Trophy in 2008, 2010 and 2013.\n"
          ],
          "name": "stdout"
        }
      ]
    },
    {
      "cell_type": "code",
      "metadata": {
        "colab": {
          "base_uri": "https://localhost:8080/"
        },
        "id": "qh6vXzMDe4Ux",
        "outputId": "17c8bbb5-3082-4ef0-fb5e-35c08dd916d2"
      },
      "source": [
        "len(summary1)"
      ],
      "execution_count": 34,
      "outputs": [
        {
          "output_type": "execute_result",
          "data": {
            "text/plain": [
              "550"
            ]
          },
          "metadata": {
            "tags": []
          },
          "execution_count": 34
        }
      ]
    },
    {
      "cell_type": "code",
      "metadata": {
        "id": "R7yJZrMsf5OM"
      },
      "source": [
        "import joblib"
      ],
      "execution_count": 35,
      "outputs": []
    },
    {
      "cell_type": "code",
      "metadata": {
        "colab": {
          "base_uri": "https://localhost:8080/"
        },
        "id": "vK8zwmT3TXJC",
        "outputId": "380a75a9-62a7-4230-a651-90bc32f2f87f"
      },
      "source": [
        "joblib.dump(tf_idf_vectorizer,\"model_save.pkl\")"
      ],
      "execution_count": 36,
      "outputs": [
        {
          "output_type": "execute_result",
          "data": {
            "text/plain": [
              "['model_save.pkl']"
            ]
          },
          "metadata": {
            "tags": []
          },
          "execution_count": 36
        }
      ]
    },
    {
      "cell_type": "code",
      "metadata": {
        "id": "tWhxQ_twU4Yo"
      },
      "source": [
        "model=joblib.load(\"model_save.pkl\")"
      ],
      "execution_count": 37,
      "outputs": []
    },
    {
      "cell_type": "code",
      "metadata": {
        "id": "L3cBPH4DTaxi"
      },
      "source": [
        ""
      ],
      "execution_count": null,
      "outputs": []
    }
  ]
}